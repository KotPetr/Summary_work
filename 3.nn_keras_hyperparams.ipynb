{
 "cells": [
  {
   "cell_type": "markdown",
   "id": "cf53afab",
   "metadata": {},
   "source": [
    "## Keras NN regression model"
   ]
  },
  {
   "cell_type": "code",
   "execution_count": 44,
   "id": "d4d78cec",
   "metadata": {},
   "outputs": [],
   "source": [
    "import pandas  as pd\n",
    "import numpy   as np\n",
    "import json\n",
    "from time import time\n",
    "from sklearn.model_selection import train_test_split\n",
    "# from tensorflow.keras import utils\n",
    "from keras.optimizers import Adam\n",
    "from keras.models import Sequential\n",
    "from keras.layers import Dense \n",
    "from keras_tuner.tuners import RandomSearch, Hyperband, BayesianOptimization\n",
    "from keras_tuner import HyperModel\n",
    "from sklearn.metrics import mean_absolute_error, mean_squared_error, r2_score"
   ]
  },
  {
   "cell_type": "markdown",
   "id": "35338bef",
   "metadata": {},
   "source": [
    "### Data load & preprocessing"
   ]
  },
  {
   "cell_type": "code",
   "execution_count": 3,
   "id": "a7ebab8d",
   "metadata": {},
   "outputs": [],
   "source": [
    "cl_data = pd.read_csv('data/clean_data.csv')"
   ]
  },
  {
   "cell_type": "code",
   "execution_count": 4,
   "id": "73ced5bb",
   "metadata": {},
   "outputs": [],
   "source": [
    "y = cl_data.buy_price\n",
    "X = cl_data.drop('buy_price', axis=1)"
   ]
  },
  {
   "cell_type": "code",
   "execution_count": 5,
   "id": "71871c54",
   "metadata": {},
   "outputs": [],
   "source": [
    "from sklearn.preprocessing import StandardScaler\n",
    "ss = StandardScaler()\n",
    "# X_train_scaled = ss.fit_transform(X_train)\n",
    "# X_test_scaled = ss.transform(X_test)\n",
    "X_scaled = ss.fit_transform(X)\n",
    "# y_train = np.array(y_train)"
   ]
  },
  {
   "cell_type": "code",
   "execution_count": 6,
   "id": "88fb855c",
   "metadata": {},
   "outputs": [],
   "source": [
    "X_train, X_test, y_train, y_test = train_test_split(X_scaled, y, test_size = 0.2, random_state=1)"
   ]
  },
  {
   "cell_type": "code",
   "execution_count": 7,
   "id": "0e3759db",
   "metadata": {},
   "outputs": [
    {
     "data": {
      "text/plain": [
       "(16466, 14)"
      ]
     },
     "execution_count": 7,
     "metadata": {},
     "output_type": "execute_result"
    }
   ],
   "source": [
    "X_train.shape"
   ]
  },
  {
   "cell_type": "markdown",
   "id": "14d1b93a",
   "metadata": {},
   "source": [
    "### Build NN model & searching hyperparams"
   ]
  },
  {
   "cell_type": "code",
   "execution_count": 23,
   "id": "4c4174a6",
   "metadata": {},
   "outputs": [],
   "source": [
    "class ANNhypermodel(HyperModel):\n",
    "    \n",
    "    def __init__(self, input_shape):\n",
    "        self.input_shape= input_shape\n",
    "        \n",
    "    def build(self, hp):\n",
    "        model= Sequential()\n",
    "        \n",
    "        # Tune the number of units in the first Dense layer\n",
    "        # Defining dense units as a close approx to the original neural network to perform a fair comparision!\n",
    "        \n",
    "        \n",
    "        hp_units_1= hp.Int('units_1', min_value=64, max_value= 512, step=32)\n",
    "        hp_units_2= hp.Int('units_2', min_value=64, max_value= 512, step=32)\n",
    "        hp_units_3= hp.Int('units_3', min_value=32, max_value= 256, step=16)\n",
    "\n",
    "        model.add(Dense(units=hp_units_1, activation='relu', input_shape= (self.input_shape,)))\n",
    "        model.add(Dense(units=hp_units_2, activation='relu'))\n",
    "        model.add(Dense(units=hp_units_3, activation='relu'))\n",
    "        model.add(Dense(1))\n",
    "\n",
    "        # Tune the learning rate for the optimizer \n",
    "        hp_learning_rate=hp.Float('learning_rate', min_value=1e-4, max_value=1e-2, sampling='LOG', default= 0.0005)\n",
    "\n",
    "        model.compile(loss='mse',\n",
    "                    optimizer= Adam(learning_rate=hp_learning_rate),\n",
    "                    metrics= ['mae','mse']\n",
    "                     )\n",
    "\n",
    "        return model\n",
    "\n",
    "hypermodel= ANNhypermodel(input_shape = X_train.shape[1])"
   ]
  },
  {
   "cell_type": "code",
   "execution_count": 25,
   "id": "ebbe3954",
   "metadata": {
    "scrolled": false
   },
   "outputs": [],
   "source": [
    "HYPERBAND_MAX_EPOCHS = 150\n",
    "EXECUTION_PER_TRIAL = 2\n",
    "\n",
    "tuner= Hyperband(hypermodel,\n",
    "                   objective= 'val_mse',\n",
    "                   max_epochs=HYPERBAND_MAX_EPOCHS, #Set 100+ for good results\n",
    "                   executions_per_trial=EXECUTION_PER_TRIAL,\n",
    "                   directory= 'hyperband',\n",
    "                   project_name='houseprices',\n",
    "                   overwrite=True)"
   ]
  },
  {
   "cell_type": "code",
   "execution_count": 24,
   "id": "8537d877",
   "metadata": {
    "scrolled": false
   },
   "outputs": [],
   "source": [
    "MAX_TRIALS = 20\n",
    "tuner= RandomSearch(hypermodel,\n",
    "                   objective= 'val_mse',\n",
    "                   max_trials= MAX_TRIALS,\n",
    "                   executions_per_trial= EXECUTION_PER_TRIAL,\n",
    "                   directory= 'random_search',\n",
    "                   project_name='houseprices',\n",
    "                   overwrite=True)"
   ]
  },
  {
   "cell_type": "code",
   "execution_count": 31,
   "id": "554a2c56",
   "metadata": {
    "scrolled": false
   },
   "outputs": [
    {
     "name": "stdout",
     "output_type": "stream",
     "text": [
      "searching for the best params!\n",
      "WARNING:tensorflow:Callback method `on_train_batch_end` is slow compared to the batch time (batch time: 0.0000s vs `on_train_batch_end` time: 0.0026s). Check your callbacks.\n",
      "WARNING:tensorflow:Callback method `on_train_batch_end` is slow compared to the batch time (batch time: 0.0002s vs `on_train_batch_end` time: 0.0007s). Check your callbacks.\n",
      "WARNING:tensorflow:Callback method `on_train_batch_end` is slow compared to the batch time (batch time: 0.0000s vs `on_train_batch_end` time: 0.0026s). Check your callbacks.\n",
      "WARNING:tensorflow:Callback method `on_train_batch_end` is slow compared to the batch time (batch time: 0.0000s vs `on_train_batch_end` time: 0.0026s). Check your callbacks.\n",
      "WARNING:tensorflow:Callback method `on_train_batch_end` is slow compared to the batch time (batch time: 0.0000s vs `on_train_batch_end` time: 0.0026s). Check your callbacks.\n",
      "WARNING:tensorflow:Callback method `on_train_batch_end` is slow compared to the batch time (batch time: 0.0000s vs `on_train_batch_end` time: 0.0026s). Check your callbacks.\n",
      "WARNING:tensorflow:Callback method `on_train_batch_end` is slow compared to the batch time (batch time: 0.0000s vs `on_train_batch_end` time: 0.0026s). Check your callbacks.\n",
      "WARNING:tensorflow:Callback method `on_train_batch_end` is slow compared to the batch time (batch time: 0.0000s vs `on_train_batch_end` time: 0.0026s). Check your callbacks.\n",
      "WARNING:tensorflow:Callback method `on_train_batch_end` is slow compared to the batch time (batch time: 0.0000s vs `on_train_batch_end` time: 0.0026s). Check your callbacks.\n",
      "INFO:tensorflow:Oracle triggered exit\n",
      "3495.2729663848877  secs\n"
     ]
    }
   ],
   "source": [
    "print('Searching for the best params!')\n",
    "\n",
    "t0 = time()\n",
    "tuner.search(x= X_train,\n",
    "             y= y_train,\n",
    "             epochs=100,\n",
    "             batch_size= 1024,\n",
    "             validation_data= (X_test, y_test),\n",
    "             verbose=0,\n",
    "             callbacks= []\n",
    "            )\n",
    "print((time()- t0)/60, \"min\")\n",
    "\n",
    "# Retreive the optimal hyperparameters\n",
    "best_hps= tuner.get_best_hyperparameters(num_trials=1)[0]\n",
    "\n",
    "# Retrieve the best model\n",
    "best_model = tuner.get_best_models(num_models=1)[0]"
   ]
  },
  {
   "cell_type": "code",
   "execution_count": 46,
   "id": "07da4f50",
   "metadata": {},
   "outputs": [
    {
     "data": {
      "text/plain": [
       "{'optimizer': {'module': 'keras.optimizers.legacy',\n",
       "  'class_name': 'Adam',\n",
       "  'config': {'name': 'Adam',\n",
       "   'learning_rate': 0.009221840725015822,\n",
       "   'decay': 0.0,\n",
       "   'beta_1': 0.9,\n",
       "   'beta_2': 0.999,\n",
       "   'epsilon': 1e-07,\n",
       "   'amsgrad': False},\n",
       "  'registered_name': None},\n",
       " 'loss': 'mse',\n",
       " 'metrics': ['mae', 'mse'],\n",
       " 'loss_weights': None,\n",
       " 'weighted_metrics': None,\n",
       " 'run_eagerly': None,\n",
       " 'steps_per_execution': None,\n",
       " 'jit_compile': None}"
      ]
     },
     "execution_count": 46,
     "metadata": {},
     "output_type": "execute_result"
    }
   ],
   "source": [
    "best_model.get_compile_config()"
   ]
  },
  {
   "cell_type": "code",
   "execution_count": 43,
   "id": "281310ff",
   "metadata": {},
   "outputs": [
    {
     "name": "stdout",
     "output_type": "stream",
     "text": [
      "Model: \"sequential\"\n",
      "_________________________________________________________________\n",
      " Layer (type)                Output Shape              Param #   \n",
      "=================================================================\n",
      " dense (Dense)               (None, 224)               3360      \n",
      "                                                                 \n",
      " dense_1 (Dense)             (None, 96)                21600     \n",
      "                                                                 \n",
      " dense_2 (Dense)             (None, 208)               20176     \n",
      "                                                                 \n",
      " dense_3 (Dense)             (None, 1)                 209       \n",
      "                                                                 \n",
      "=================================================================\n",
      "Total params: 45,345\n",
      "Trainable params: 45,345\n",
      "Non-trainable params: 0\n",
      "_________________________________________________________________\n"
     ]
    }
   ],
   "source": [
    "best_model.summary()"
   ]
  },
  {
   "cell_type": "code",
   "execution_count": 33,
   "id": "78346670",
   "metadata": {},
   "outputs": [
    {
     "name": "stdout",
     "output_type": "stream",
     "text": [
      "129/129 [==============================] - 0s 532us/step\n"
     ]
    }
   ],
   "source": [
    "y_pred = best_model.predict(X_test).ravel()"
   ]
  },
  {
   "cell_type": "code",
   "execution_count": 35,
   "id": "d193ad90",
   "metadata": {},
   "outputs": [
    {
     "name": "stdout",
     "output_type": "stream",
     "text": [
      "644/644 [==============================] - 0s 596us/step\n"
     ]
    }
   ],
   "source": [
    "pred_price = best_model.predict(X_scaled).ravel()"
   ]
  },
  {
   "cell_type": "markdown",
   "id": "6c7c77b2",
   "metadata": {},
   "source": [
    "### Get metrics & saving results"
   ]
  },
  {
   "cell_type": "code",
   "execution_count": 52,
   "id": "ad844bac",
   "metadata": {},
   "outputs": [
    {
     "name": "stdout",
     "output_type": "stream",
     "text": [
      "Saved model to disk\n"
     ]
    }
   ],
   "source": [
    "best_model.save(\"model.h5\")\n",
    "print(\"Saved model to disk\")"
   ]
  },
  {
   "cell_type": "code",
   "execution_count": 42,
   "id": "038435cc",
   "metadata": {},
   "outputs": [],
   "source": [
    "dc = {\n",
    "    \"R2_test\": r2,\n",
    "    \"mae\": mae,\n",
    "    \"mae%\": mae_perc,\n",
    "    \"rmse\": rmse,    \n",
    "    \"R2_total\": score    \n",
    "}\n",
    "\n",
    "json_object = json.dumps(dc, indent=4)\n",
    "\n",
    "with open(\"data/nn_metrics.json\", \"w\") as outfile:\n",
    "    outfile.write(json_object)"
   ]
  },
  {
   "cell_type": "code",
   "execution_count": 41,
   "id": "8e4e1638",
   "metadata": {},
   "outputs": [],
   "source": [
    "df = create_result_df(y, pred_price)\n",
    "df.to_csv('data/nn_results.csv', index=False)"
   ]
  },
  {
   "cell_type": "code",
   "execution_count": 36,
   "id": "c031e644",
   "metadata": {},
   "outputs": [],
   "source": [
    "def metrics (y_test, y_pred):\n",
    "    print('Test set metrics:')\n",
    "    print()\n",
    "    mae = mean_absolute_error(y_test, y_pred)\n",
    "    mae_perc = np.mean(abs(y_test - y_pred)*100/y_test)\n",
    "    rmse = mean_squared_error(y_test, y_pred)**0.5\n",
    "    r2 = r2_score(y_test, y_pred)\n",
    "    \n",
    "    print(f'Mean absolute error: {mae:.2f}')\n",
    "    print(f'Mean absolute error (%): {mae_perc:.2f}')\n",
    "    print(f'Root mean squared error: {rmse:.2f}')\n",
    "    print(f'R2 score for test set: {r2:.4f}')\n",
    "    print('#'*20)\n",
    "    print()\n",
    "    return r2, mae, mae_perc, rmse"
   ]
  },
  {
   "cell_type": "code",
   "execution_count": 40,
   "id": "b5f8cc35",
   "metadata": {},
   "outputs": [],
   "source": [
    "def create_result_df(actual, predict):\n",
    "    df = pd.DataFrame(actual)\n",
    "    df.rename(columns={df.columns[0]: 'actual'}, inplace=True)\n",
    "    df.insert(len(df.columns), column='predict', value=predict)\n",
    "    df.insert(len(df.columns), column='difference', value=df.actual - df.predict)\n",
    "    df.insert(len(df.columns), column='diff%', value=abs(df.difference)/df.actual *100 )\n",
    "#     df.insert(len(df.columns), column='squared', value= df.difference**2)\n",
    "    return df"
   ]
  },
  {
   "cell_type": "code",
   "execution_count": 37,
   "id": "5fb5e9c5",
   "metadata": {},
   "outputs": [
    {
     "name": "stdout",
     "output_type": "stream",
     "text": [
      "Test set metrics:\n",
      "\n",
      "Mean absolute error: 87240.87\n",
      "Mean absolute error (%): 19.09\n",
      "Root mean squared error: 144591.02\n",
      "R2 score for test set: 0.8915\n",
      "####################\n",
      "\n",
      "R2 score for data set 0.8947\n"
     ]
    }
   ],
   "source": [
    "y_test = y_test.ravel()\n",
    "r2, mae, mae_perc, rmse = metrics(y_test, y_pred)\n",
    "score = r2_score(y, pred_price)\n",
    "print(f\"R2 score for data set {score:.4f}\")"
   ]
  }
 ],
 "metadata": {
  "kernelspec": {
   "display_name": "Python 3 (ipykernel)",
   "language": "python",
   "name": "python3"
  },
  "language_info": {
   "codemirror_mode": {
    "name": "ipython",
    "version": 3
   },
   "file_extension": ".py",
   "mimetype": "text/x-python",
   "name": "python",
   "nbconvert_exporter": "python",
   "pygments_lexer": "ipython3",
   "version": "3.9.13"
  }
 },
 "nbformat": 4,
 "nbformat_minor": 5
}
